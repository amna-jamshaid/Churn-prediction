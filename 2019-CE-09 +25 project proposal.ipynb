{
  "nbformat": 4,
  "nbformat_minor": 0,
  "metadata": {
    "colab": {
      "name": "project3_template.ipynb",
      "provenance": [],
      "collapsed_sections": []
    },
    "kernelspec": {
      "name": "python3",
      "display_name": "Python 3"
    }
  },
  "cells": [
    {
      "cell_type": "markdown",
      "metadata": {
        "id": "U5JUMgc_gbHp"
      },
      "source": [
        "# CS145: Project 3 | Project Name"
      ]
    },
    {
      "cell_type": "markdown",
      "metadata": {
        "id": "EHDiv4GrhofN"
      },
      "source": [
        "## Collaborators:\n",
        "2019-CE-09\n",
        "2019-CE-25\n",
        "Churn prediction dataset"
      ]
    },
    {
      "cell_type": "markdown",
      "metadata": {
        "id": "gMNQWFvSgepX"
      },
      "source": [
        "## Project Overview"
      ]
    },
    {
      "cell_type": "markdown",
      "metadata": {
        "id": "lX1Jkglwg1SI"
      },
      "source": [
        "---\n",
        "\n",
        "Churn Prediction is the process of forecasting which customers are most likely to cancel a subscription, or 'leave a firm,' based on how they use the service. From a business standpoint, obtaining this information is critical since recruiting new clients is generally more difficult and costly than maintaining existing customers.\n",
        "\n",
        "---\n"
      ]
    },
    {
      "cell_type": "markdown",
      "metadata": {
        "id": "r_GvgTCcgv6N"
      },
      "source": [
        "## Analysis of Dataset"
      ]
    },
    {
      "cell_type": "markdown",
      "metadata": {
        "id": "c6wGQ8ZPgyuJ"
      },
      "source": [
        "---\n",
        "Customer churn analysis is a method of determining the number or percentage of customers that do not buy more items or services. For example, suppose you offer software on a yearly subscription basis and have 1,000 clients on January 1, 2020, but only 800, or 80%, have renewed on January 1, 2021.\n",
        "\n",
        "----"
      ]
    },
    {
      "cell_type": "markdown",
      "metadata": {
        "id": "Fc_clta9g3H5"
      },
      "source": [
        "## Data Exploration"
      ]
    },
    {
      "cell_type": "code",
      "metadata": {
        "id": "iTYZZK-lhCV9"
      },
      "source": [
        "# Run this cell to authenticate yourself to BigQuery\n",
        "from google.colab import auth\n",
        "auth.authenticate_user()\n",
        "project_id = \"YOUR PROJECT ID HERE\""
      ],
      "execution_count": null,
      "outputs": []
    },
    {
      "cell_type": "code",
      "metadata": {
        "id": "uIY7-6-thFc-"
      },
      "source": [
        "# Initialize BiqQuery client\n",
        "from google.cloud import bigquery\n",
        "client = bigquery.Client(project=project_id)"
      ],
      "execution_count": null,
      "outputs": []
    },
    {
      "cell_type": "markdown",
      "metadata": {
        "id": "OsMMIDrjg_YG"
      },
      "source": [
        "---\n",
        "\n",
        "*TODO: Exploring your questions, with appropriate visualizations*\n",
        "Divide the number of customers lost over a specific time interval by the number of active customers at the start of the period to determine the churn rate. For example, if you gained 1000 clients last month but lost 50, your monthly churn rate is 5%.\n",
        "\n",
        "---"
      ]
    },
    {
      "cell_type": "markdown",
      "metadata": {
        "id": "NhFSJifsiC1U"
      },
      "source": [
        "## Data Prediction"
      ]
    },
    {
      "cell_type": "markdown",
      "metadata": {
        "id": "ofeY7XQuyhOU"
      },
      "source": [
        "---\n",
        "\n",
        "Customer Churn is when customers leave a service in a given period of time, what is bad for business. This work has as objective to build a machine learning model to predict which customers will leave the service and the dataset used is the Telco Customer Churn, hosted at Kaggle.\n",
        "\n",
        "---"
      ]
    },
    {
      "cell_type": "markdown",
      "metadata": {
        "id": "Dg7Lhqi_yDcy"
      },
      "source": [
        "## Conclusion"
      ]
    },
    {
      "cell_type": "markdown",
      "metadata": {
        "id": "YmVpTigjyHMY"
      },
      "source": [
        "---\n",
        "\n",
        "*TODO: Final conclusions based on the rest of your project*\n",
        "Churn prediction refers to determining which consumers are most likely to abandon a service or terminate their membership. It's a crucial forecast for many firms since getting new customers is sometimes more expensive than keeping old ones.\n",
        "\n",
        "---"
      ]
    }
  ]
}